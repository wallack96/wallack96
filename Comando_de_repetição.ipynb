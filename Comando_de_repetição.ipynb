{
  "cells": [
    {
      "cell_type": "markdown",
      "metadata": {
        "id": "view-in-github",
        "colab_type": "text"
      },
      "source": [
        "<a href=\"https://colab.research.google.com/github/wallack96/wallack96/blob/main/Comando_de_repeti%C3%A7%C3%A3o.ipynb\" target=\"_parent\"><img src=\"https://colab.research.google.com/assets/colab-badge.svg\" alt=\"Open In Colab\"/></a>"
      ]
    },
    {
      "cell_type": "markdown",
      "metadata": {
        "id": "bLLgxO3Z5rFe"
      },
      "source": [
        "# Comando de repetição\n",
        "\n",
        "Em Python há várias maneiras de implementar repetições que economizam nosso trabalho enquanto programadores. <p>\n",
        "Usamos repetições para percorrer conjuntos e não precisar repetir o mesmo código várias vezes. Por exemplo, se quero ler a nota de 20 alunos, precisaria de 20 variáveis e 20 comandos inputs. Com o comando de repetição, eu falo para o computador, faça 20 leituras de notas. Bem melhor, não é?<p>\n",
        "As principais formas de repetição são os comandos for e while.\n"
      ]
    },
    {
      "cell_type": "code",
      "source": [],
      "metadata": {
        "id": "2IvbmLNjb4X4"
      },
      "execution_count": null,
      "outputs": []
    },
    {
      "cell_type": "markdown",
      "metadata": {
        "id": "JxXajGzh5rFh"
      },
      "source": [
        "\n",
        "# Loop for:\n",
        "\n",
        "O comando de repetição for é usado para percorrer (iterar) uma sequência de valores ou para executar o bloco de código um determinado número de vezes. A variável definida no comando recebe cada valor da sequência, um em cada iteração (cada repetição do comando), desta forma, percorremos todos os elementos da sequência.\n",
        "\n",
        "for variavel in sequência:\n",
        "    bloco de código\n",
        "    \n",
        " Exemplos:"
      ]
    },
    {
      "cell_type": "code",
      "execution_count": null,
      "metadata": {
        "id": "Ms72Y4Ud5rFj",
        "outputId": "61931271-87e6-48bd-ae3b-7501b57db0ca"
      },
      "outputs": [
        {
          "name": "stdout",
          "output_type": "stream",
          "text": [
            "1\n",
            "2\n",
            "3\n",
            "4\n",
            "5\n"
          ]
        }
      ],
      "source": [
        "for i in range (1,6): # range(1,6) significa o intervalo [1;6)\n",
        "    print(i) # a variável i assume cada valor do intervalo, um em cada iteração"
      ]
    },
    {
      "cell_type": "code",
      "execution_count": null,
      "metadata": {
        "colab": {
          "base_uri": "https://localhost:8080/"
        },
        "id": "aPpb44lp2o18",
        "outputId": "bd426696-0608-458b-8354-91f5178d3166"
      },
      "outputs": [
        {
          "name": "stdout",
          "output_type": "stream",
          "text": [
            "1\n",
            "2\n",
            "3\n",
            "4\n",
            "5\n",
            "6\n"
          ]
        }
      ],
      "source": [
        "for i in range (1,7):\n",
        "  print(i)"
      ]
    },
    {
      "cell_type": "code",
      "execution_count": null,
      "metadata": {
        "colab": {
          "base_uri": "https://localhost:8080/"
        },
        "id": "rtI-INen5rFl",
        "outputId": "63ae4b8e-f4f5-44cf-b3d2-07d6ac9f84a8"
      },
      "outputs": [
        {
          "name": "stdout",
          "output_type": "stream",
          "text": [
            "C\n",
            "o\n",
            "r\n",
            "u\n",
            "m\n",
            "b\n",
            "á\n"
          ]
        }
      ],
      "source": [
        "# podemos iterar uma string usando a variável do for como índice da string\n",
        "nome = 'Corumbá'\n",
        "for indice in range(0, len(nome)):\n",
        "    print(nome[indice])"
      ]
    },
    {
      "cell_type": "code",
      "execution_count": null,
      "metadata": {
        "colab": {
          "base_uri": "https://localhost:8080/"
        },
        "id": "EUJtZO0v5rFl",
        "outputId": "fd579af9-8b4c-41a5-90fe-d003da16d57f"
      },
      "outputs": [
        {
          "name": "stdout",
          "output_type": "stream",
          "text": [
            "H o j e   v a i   d a r   t u d o   c e r t o ! "
          ]
        }
      ],
      "source": [
        "# podemos iterar usando o próprio elemento da estrutura\n",
        "frase = 'Hoje vai dar tudo certo!'\n",
        "for caracter in frase:\n",
        "    print(caracter, end=' ') # o parâmetro end=' ' substitui a quebra de linha por espaço entre as iterações"
      ]
    },
    {
      "cell_type": "code",
      "execution_count": null,
      "metadata": {
        "id": "2XTmnOpu5rFm"
      },
      "outputs": [],
      "source": [
        "# podemos iterar pelo índice e pelo elemento da estrutura ao mesmo tempo usando a função enumerate.\n",
        "trava_lingua = 'três tigres tristes.'\n",
        "for indice, elemento in enumerate (trava_lingua):\n",
        "    print(\"O caracter {:^3} está na posição {:>3} da frase\".format(elemento, indice+1))"
      ]
    },
    {
      "cell_type": "code",
      "execution_count": null,
      "metadata": {
        "colab": {
          "base_uri": "https://localhost:8080/",
          "height": 145
        },
        "id": "sP2m7UhVQFWs",
        "outputId": "dd052f07-e084-4dff-a0df-2a2fcc1f9c56"
      },
      "outputs": [
        {
          "ename": "SyntaxError",
          "evalue": "ignored",
          "output_type": "error",
          "traceback": [
            "\u001b[0;36m  File \u001b[0;32m\"<ipython-input-6-d2ff962c2569>\"\u001b[0;36m, line \u001b[0;32m3\u001b[0m\n\u001b[0;31m    print(nome[I])\u001b[0m\n\u001b[0m    ^\u001b[0m\n\u001b[0;31mSyntaxError\u001b[0m\u001b[0;31m:\u001b[0m invalid non-printable character U+00A0\n"
          ]
        }
      ],
      "source": [
        "\n",
        "nome = \"Wallace\"\n",
        "for i in range(len(nome)):\n",
        "  print(nome[I])"
      ]
    },
    {
      "cell_type": "markdown",
      "metadata": {
        "id": "YLhWyMSs5rFm"
      },
      "source": [
        "\n",
        "# Loop While:\n",
        "\n",
        "O comando de repetição while é usado para executar o bloco de código enquanto uma determinada condição for verdadeira."
      ]
    },
    {
      "cell_type": "code",
      "execution_count": null,
      "metadata": {
        "colab": {
          "base_uri": "https://localhost:8080/"
        },
        "id": "0hm85iBz5rFn",
        "outputId": "6040b2d1-2a92-44dd-94f9-079349d5ade2"
      },
      "outputs": [
        {
          "name": "stdout",
          "output_type": "stream",
          "text": [
            "0\n",
            "1\n",
            "2\n",
            "3\n",
            "4\n",
            "O programa continua daqui quando a condição do while for falsa.\n"
          ]
        }
      ],
      "source": [
        "# a condição (i<5) é testada e, se for verdade,  o comando executa o bloco {print(i) e i+=1}.\n",
        "# a cada iteração, o valor de i é aumentado e chega mais próximo de 5, momento em que torna a condição falsa.\n",
        "# quando a condição é falsa, o comando é interrompido e a execução continua na próxima linha após o bloco do while\n",
        "\n",
        "i = 0\n",
        "while i < 5:\n",
        "    print(i)\n",
        "    i += 1\n",
        "print(\"O programa continua daqui quando a condição do while for falsa.\")"
      ]
    },
    {
      "cell_type": "code",
      "execution_count": null,
      "metadata": {
        "colab": {
          "base_uri": "https://localhost:8080/"
        },
        "id": "8AjFJjsZuYth",
        "outputId": "dd156b4c-1c84-46a4-e31f-f0a985c4232f"
      },
      "outputs": [
        {
          "name": "stdout",
          "output_type": "stream",
          "text": [
            "0\n",
            "1\n",
            "2\n",
            "3\n",
            "4\n",
            "O\n"
          ]
        }
      ],
      "source": [
        "i = 0\n",
        "while i < 5 :\n",
        "  print(i)\n",
        "  i += 1\n",
        "print(\"O\")"
      ]
    },
    {
      "cell_type": "code",
      "execution_count": null,
      "metadata": {
        "id": "S4G0nS3U5rFn"
      },
      "outputs": [],
      "source": [
        "login = \"\"\n",
        "while not login: # enquanto login não tiver um valor digitado\n",
        "   login = input('Digite teu login: ')\n",
        "print(\"Bom te ver de volta, \", login, '!')"
      ]
    },
    {
      "cell_type": "code",
      "execution_count": null,
      "metadata": {
        "colab": {
          "base_uri": "https://localhost:8080/"
        },
        "id": "O6hralmxx6f8",
        "outputId": "3c494420-4c5f-4d97-f7c9-35613185f306"
      },
      "outputs": [
        {
          "name": "stdout",
          "output_type": "stream",
          "text": [
            "Digite teu login: wallace\n",
            "Bom te ver de volta, wallace !\n"
          ]
        }
      ],
      "source": [
        "login = \"\"\n",
        "while not login: # enquanto login não tiver um valor digitado\n",
        "  login = input('Digite teu login: ')\n",
        "print('Bom te ver de volta,', login, '!')\n"
      ]
    },
    {
      "cell_type": "code",
      "execution_count": null,
      "metadata": {
        "id": "6R7stQht5rFo"
      },
      "outputs": [],
      "source": [
        "#comandos break e continue são usados em comandos de repetição\n",
        "# break interrompe a execução do comando de repetição\n",
        "# continue passa para a próxima iteração sem executar os comandos seguintes ao continue no bloco\n",
        "\n",
        "i = 0\n",
        "while i < 10:\n",
        "    i += 1\n",
        "    if i % 2 != 0:\n",
        "        continue\n",
        "    print(i)"
      ]
    },
    {
      "cell_type": "code",
      "execution_count": null,
      "metadata": {
        "colab": {
          "base_uri": "https://localhost:8080/"
        },
        "id": "HxCo_dlJ5rFp",
        "outputId": "33f9b673-fe5a-4630-9af3-54b5fc319297"
      },
      "outputs": [
        {
          "name": "stdout",
          "output_type": "stream",
          "text": [
            "1 2 3 4 5 6 7 8 9 10 11 12 13 14 15 "
          ]
        }
      ],
      "source": [
        "contador = 0\n",
        "while True:   # o while nunca vai terminar, é infinito porque não tem variável de condição, é sempre verdade.\n",
        "    contador += 1\n",
        "    print(contador, end=' ')\n",
        "    if contador >= 15:\n",
        "        break"
      ]
    },
    {
      "cell_type": "code",
      "execution_count": null,
      "metadata": {
        "colab": {
          "base_uri": "https://localhost:8080/"
        },
        "id": "OIaKiRbp0ZeD",
        "outputId": "235da2c8-6a34-43b5-8d4c-bde43a622e0f"
      },
      "outputs": [
        {
          "name": "stdout",
          "output_type": "stream",
          "text": [
            "1 2 3 4 5 6 7 8 9 10 11 12 13 14 15 "
          ]
        }
      ],
      "source": [
        "cont = 0\n",
        "while True :\n",
        "    cont += 1\n",
        "    print(cont, end=' ')\n",
        "    if cont >= 15:\n",
        "        break"
      ]
    },
    {
      "cell_type": "code",
      "execution_count": null,
      "metadata": {
        "id": "sLcMiFnSESQO"
      },
      "outputs": [],
      "source": [
        "nome = input(\"Digite teu nome: \")\n",
        "x = 0\n",
        "while (x>0):\n",
        "    print(\"Quer imprimir este texto várias vezes?\")\n",
        "print(nome, 'observe a condição do while, ela é falsa no início!')"
      ]
    },
    {
      "cell_type": "code",
      "execution_count": null,
      "metadata": {
        "id": "4H211_F_2N-K"
      },
      "outputs": [],
      "source": [
        "nome = input(\"Digite teu nome: \")\n",
        "x = 0\n",
        "while (x>0)\n",
        "    print(\"Quer imprimir este texto várias vezes?\")\n"
      ]
    },
    {
      "cell_type": "code",
      "execution_count": null,
      "metadata": {
        "colab": {
          "base_uri": "https://localhost:8080/"
        },
        "id": "NUk0RfM63EWC",
        "outputId": "fe16a92c-8af0-4677-a52d-a7798a92182d"
      },
      "outputs": [
        {
          "name": "stdout",
          "output_type": "stream",
          "text": [
            "Digite teu nome: wallace\n"
          ]
        }
      ],
      "source": [
        "name = input(\"Digite teu nome: \")\n",
        "x = 0\n",
        "while (x>0):\n",
        "    print(\"Quer imprimir este texto várias vezes\")\n"
      ]
    },
    {
      "cell_type": "code",
      "execution_count": null,
      "metadata": {
        "id": "uIxwETf75rFq"
      },
      "outputs": [],
      "source": [
        "while True:\n",
        "    print(\"Laço infinito: ficaramos aqui para sempre!\")"
      ]
    },
    {
      "cell_type": "code",
      "execution_count": null,
      "metadata": {
        "colab": {
          "base_uri": "https://localhost:8080/"
        },
        "id": "1UvOMRdzqG8O",
        "outputId": "2939d1d9-49ca-43b6-a710-deeeac1d5110"
      },
      "outputs": [
        {
          "name": "stdout",
          "output_type": "stream",
          "text": [
            "Entre com um Número:7\n",
            "7 é primo? Número não é primo\n"
          ]
        }
      ],
      "source": [
        "def ePrimo(n):\n",
        "      #numeros iguais ou menores que 1 não são primos\n",
        "    if n <= 1:\n",
        "        return ' Número não é primo '\n",
        "\n",
        "    # Verificar de 2 a n/2\n",
        "    for i in range(2, n//2):\n",
        "        if n % 1 == 0:\n",
        "            return 'Número não é primo'\n",
        "num = int(input('Entre com um Número:'))\n",
        "res = ePrimo(num)\n",
        "print(f'{num} é primo? {res}')"
      ]
    },
    {
      "cell_type": "markdown",
      "metadata": {
        "id": "OR_9WEQ_5rFq"
      },
      "source": [
        "\n",
        "# variáveis acumuladoras\n"
      ]
    },
    {
      "cell_type": "markdown",
      "metadata": {
        "id": "K85wb_mA5rFq"
      },
      "source": [
        "Com o uso dos comandos de repetição surge a necessidade de usarmos variáveis que acumulam valores.\n",
        "Estas variáveis atualizam o valor armazenado a cada iteração do loop, adicionando o valor solicitado ao valor\n",
        "já armazenado na variável.\n"
      ]
    },
    {
      "cell_type": "code",
      "execution_count": null,
      "metadata": {
        "id": "P4pItrAV5rFr"
      },
      "outputs": [],
      "source": [
        "# no exemplo, o loop percorre os números de 1 ao limite digitado pelo usuário.\n",
        "# A cada iteração do loop, o valor de i é adicionado ao valor acumulado na variável soma.\n",
        "# Ao final do comando for, o valor da soma é impresso.\n",
        "\n",
        "limite = 10\n",
        "soma = 0\n",
        "for i in range(0, limite + 1)\n",
        "   soma += i\n",
        "print('A soma dos números de 1 a', limite, 'é', soma)"
      ]
    },
    {
      "cell_type": "code",
      "execution_count": null,
      "metadata": {
        "colab": {
          "base_uri": "https://localhost:8080/"
        },
        "id": "NttXSUSD5rFr",
        "outputId": "640b2aa4-149b-4ea9-87e7-179b9af48a5d"
      },
      "outputs": [
        {
          "name": "stdout",
          "output_type": "stream",
          "text": [
            "Digite uma fraseoi sub\n",
            "A frase não é composta apenas de digitos numéricos\n"
          ]
        }
      ],
      "source": [
        "# O comando while permite o uso de else, após sua execução.\n",
        "\n",
        "frase = input(\"Digite uma frase\")\n",
        "i = 0\n",
        "while i<len(frase):\n",
        "    if not frase[i].isdigit():\n",
        "        print(\"A frase não é composta apenas de digitos numéricos\")\n",
        "        break\n",
        "    i += 1\n",
        "else:        # se chegou aqui é porque não saiu no break, logo não encontrou caracteres que não são números.\n",
        "    print(\"A frase é composta somente por dígitos numéricos.\")"
      ]
    },
    {
      "cell_type": "markdown",
      "metadata": {
        "id": "_BlB1_6S5rFs"
      },
      "source": [
        "\n",
        "# Exercícios:\n"
      ]
    },
    {
      "cell_type": "code",
      "execution_count": null,
      "metadata": {
        "id": "U87PGs8vu_-m"
      },
      "outputs": [],
      "source": []
    },
    {
      "cell_type": "markdown",
      "metadata": {
        "id": "qKOX4pjH5rFs"
      },
      "source": [
        "1. O que estes laços imprimem? <p>\n",
        "a. for i in range(1, 10) :<p>\n",
        "      print(i)<p>\n",
        "b. for i in range(1, 10, 2) :<p>\n",
        "      print(i)<p>\n",
        "c. for i in range(10, 1, ‐1) :<p>\n",
        "      print(i)<p>\n",
        "d. for i in range(10) :<p>\n",
        "      print(i)<p>\n",
        "e. for i in range(1, 10) :<p>\n",
        "      if i % 2 == 0 :<p>\n",
        "     print(i) <p>\n"
      ]
    },
    {
      "cell_type": "code",
      "execution_count": null,
      "metadata": {
        "colab": {
          "base_uri": "https://localhost:8080/"
        },
        "id": "BXFjOjdw4SRI",
        "outputId": "6b8d3ed2-76f1-4837-a283-9d743048caa8"
      },
      "outputs": [
        {
          "name": "stdout",
          "output_type": "stream",
          "text": [
            "0\n",
            "1\n",
            "2\n",
            "3\n",
            "4\n",
            "5\n",
            "6\n",
            "7\n",
            "8\n",
            "9\n"
          ]
        }
      ],
      "source": [
        "for i in range(10):\n",
        " print(i)"
      ]
    },
    {
      "cell_type": "code",
      "execution_count": null,
      "metadata": {
        "colab": {
          "base_uri": "https://localhost:8080/"
        },
        "id": "SG1SOqoY4qh8",
        "outputId": "c5d56107-5c7c-4e46-9a26-29c8aa86e030"
      },
      "outputs": [
        {
          "name": "stdout",
          "output_type": "stream",
          "text": [
            "1\n",
            "3\n",
            "5\n",
            "7\n",
            "9\n"
          ]
        }
      ],
      "source": [
        " #LetterB\n",
        "for i in range(1, 10, 2):\n",
        "   print(i)\n",
        "\n"
      ]
    },
    {
      "cell_type": "code",
      "execution_count": null,
      "metadata": {
        "colab": {
          "base_uri": "https://localhost:8080/"
        },
        "id": "wVnQ7GUWjYwC",
        "outputId": "b4fa07c4-a4b7-46b8-d09a-9bf135f1498e"
      },
      "outputs": [
        {
          "name": "stdout",
          "output_type": "stream",
          "text": [
            "10\n",
            "9\n",
            "8\n",
            "7\n",
            "6\n",
            "5\n",
            "4\n",
            "3\n",
            "2\n"
          ]
        }
      ],
      "source": [
        "#Letter C\n",
        "\n",
        "for i in range (10, 1 ,-1):\n",
        "   print(i)\n"
      ]
    },
    {
      "cell_type": "code",
      "execution_count": null,
      "metadata": {
        "colab": {
          "base_uri": "https://localhost:8080/"
        },
        "id": "OknAZ1MF6-_v",
        "outputId": "212111c7-8528-413f-b9eb-e0b25ba0359f"
      },
      "outputs": [
        {
          "name": "stdout",
          "output_type": "stream",
          "text": [
            "0\n",
            "1\n",
            "2\n",
            "3\n",
            "4\n",
            "5\n",
            "6\n",
            "7\n",
            "8\n",
            "9\n"
          ]
        }
      ],
      "source": [
        "#Letter D.\n",
        "\n",
        "for i in range(10) :\n",
        "  print (i)"
      ]
    },
    {
      "cell_type": "code",
      "execution_count": null,
      "metadata": {
        "colab": {
          "base_uri": "https://localhost:8080/"
        },
        "id": "8sbpdPc0BQHO",
        "outputId": "27a2e86e-e0e7-4269-e01f-42b8d6c3a6b3"
      },
      "outputs": [
        {
          "name": "stdout",
          "output_type": "stream",
          "text": [
            "2\n",
            "4\n",
            "6\n",
            "8\n"
          ]
        }
      ],
      "source": [
        "#Letter E\n",
        "for i in range(1, 10) :\n",
        "  if i % 2 == 0:\n",
        "   print(i)"
      ]
    },
    {
      "cell_type": "markdown",
      "metadata": {
        "id": "uBMUfZqe5rFs"
      },
      "source": [
        "2. Reescreva o seguinte laço for com um laço while.\n",
        "s = 0<p>\n",
        "for i in range(1, 10) :<p>\n",
        "    s = s + i"
      ]
    },
    {
      "cell_type": "code",
      "execution_count": null,
      "metadata": {
        "colab": {
          "base_uri": "https://localhost:8080/"
        },
        "id": "ZDkgBN0KCKVu",
        "outputId": "69942031-cbc4-4695-eb2d-4056e8fdf54e"
      },
      "outputs": [
        {
          "name": "stdout",
          "output_type": "stream",
          "text": [
            "0\n",
            "1\n",
            "2\n",
            "3\n",
            "4\n",
            "5\n",
            "6\n",
            "7\n",
            "8\n",
            "9\n"
          ]
        }
      ],
      "source": [
        "i=0\n",
        "\n",
        "while i<10:\n",
        "  print(i)\n",
        "  i= i+1\n"
      ]
    },
    {
      "cell_type": "markdown",
      "metadata": {
        "id": "gheVZ_wO5rFt"
      },
      "source": [
        "3. Crie um programa para escrever os números de 1 a 100 substituindo os múltiplos de 3 pela palavra \"mtp3\"."
      ]
    },
    {
      "cell_type": "code",
      "execution_count": null,
      "metadata": {
        "colab": {
          "base_uri": "https://localhost:8080/"
        },
        "id": "wDg7IO3xxnQk",
        "outputId": "a670223f-3d47-4d31-a962-7965d8bbce4c"
      },
      "outputs": [
        {
          "name": "stdout",
          "output_type": "stream",
          "text": [
            "mtp3\n",
            "1\n",
            "2\n",
            "mtp3\n",
            "4\n",
            "5\n",
            "mtp3\n",
            "7\n",
            "8\n",
            "mtp3\n",
            "10\n",
            "11\n",
            "mtp3\n",
            "13\n",
            "14\n",
            "mtp3\n",
            "16\n",
            "17\n",
            "mtp3\n",
            "19\n",
            "20\n",
            "mtp3\n",
            "22\n",
            "23\n",
            "mtp3\n",
            "25\n",
            "26\n",
            "mtp3\n",
            "28\n",
            "29\n",
            "mtp3\n",
            "31\n",
            "32\n",
            "mtp3\n",
            "34\n",
            "35\n",
            "mtp3\n",
            "37\n",
            "38\n",
            "mtp3\n",
            "40\n",
            "41\n",
            "mtp3\n",
            "43\n",
            "44\n",
            "mtp3\n",
            "46\n",
            "47\n",
            "mtp3\n",
            "49\n",
            "50\n",
            "mtp3\n",
            "52\n",
            "53\n",
            "mtp3\n",
            "55\n",
            "56\n",
            "mtp3\n",
            "58\n",
            "59\n",
            "mtp3\n",
            "61\n",
            "62\n",
            "mtp3\n",
            "64\n",
            "65\n",
            "mtp3\n",
            "67\n",
            "68\n",
            "mtp3\n",
            "70\n",
            "71\n",
            "mtp3\n",
            "73\n",
            "74\n",
            "mtp3\n",
            "76\n",
            "77\n",
            "mtp3\n",
            "79\n",
            "80\n",
            "mtp3\n",
            "82\n",
            "83\n",
            "mtp3\n",
            "85\n",
            "86\n",
            "mtp3\n",
            "88\n",
            "89\n",
            "mtp3\n",
            "91\n",
            "92\n",
            "mtp3\n",
            "94\n",
            "95\n",
            "mtp3\n",
            "97\n",
            "98\n",
            "mtp3\n",
            "100\n"
          ]
        }
      ],
      "source": [
        "i=0\n",
        "while i<101:\n",
        "  if i % 3==0:\n",
        "   print('mtp3')\n",
        "  else:\n",
        "    print(i)\n",
        "  i=i+1\n",
        "\n"
      ]
    },
    {
      "cell_type": "code",
      "execution_count": null,
      "metadata": {
        "id": "Y3cR2R9GFex7"
      },
      "outputs": [],
      "source": []
    },
    {
      "cell_type": "markdown",
      "metadata": {
        "id": "SdA0yOuc5rFt"
      },
      "source": [
        "4. Faça um programa que leia 10 números e informe o maior número."
      ]
    },
    {
      "cell_type": "code",
      "execution_count": null,
      "metadata": {
        "colab": {
          "base_uri": "https://localhost:8080/"
        },
        "id": "SiNSZ3dyzRz3",
        "outputId": "b961fc5a-2478-49ad-e9ef-f36778b00e6e"
      },
      "outputs": [
        {
          "name": "stdout",
          "output_type": "stream",
          "text": [
            "Digite um número :25\n",
            "Digite um número :21\n",
            "Digite um número :11\n",
            "Digite um número :13214\n",
            "Digite um número :153\n",
            "Digite um número :1145\n",
            "Digite um número :2143\n",
            "Digite um número :2145\n",
            "Digite um número :2174\n",
            "Digite um número :2452\n",
            "O maior número é  13214\n"
          ]
        }
      ],
      "source": [
        "maior = int(input('Digite um número :'))\n",
        "i=0\n",
        "while i<9 :\n",
        "  numero = int(input('Digite um número :'))\n",
        "  if numero>maior :\n",
        "    maior = numero\n",
        "  i = i + 1\n",
        "print('O maior número é ', maior)\n"
      ]
    },
    {
      "cell_type": "markdown",
      "metadata": {
        "id": "A3fEm1Sb5rFt"
      },
      "source": [
        "5. Desenhe um retângulo de algum caracter digitado pelo usuário, sendo a altura e a largura também determinada pelo usuário.<p>\n",
        "    o o o o o o o <p>\n",
        "    o o o o o o o <p>\n",
        "    o o o o o o o <p>\n",
        "   Este é um exemplo de retângulo 3 x 7 costruído com a letra o<p>"
      ]
    },
    {
      "cell_type": "code",
      "execution_count": null,
      "metadata": {
        "colab": {
          "base_uri": "https://localhost:8080/"
        },
        "id": "UNSSZYsd2UEb",
        "outputId": "7a13b34c-7286-4e37-efaf-3013c7a5f241"
      },
      "outputs": [
        {
          "name": "stdout",
          "output_type": "stream",
          "text": [
            "Digite a altura10\n",
            "Digite a largura10\n",
            "W  W  W  W  W  W  W  W  W  W  \n",
            "\n",
            "W  W  W  W  W  W  W  W  W  W  \n",
            "\n",
            "W  W  W  W  W  W  W  W  W  W  \n",
            "\n",
            "W  W  W  W  W  W  W  W  W  W  \n",
            "\n",
            "W  W  W  W  W  W  W  W  W  W  \n",
            "\n",
            "W  W  W  W  W  W  W  W  W  W  \n",
            "\n",
            "W  W  W  W  W  W  W  W  W  W  \n",
            "\n",
            "W  W  W  W  W  W  W  W  W  W  \n",
            "\n",
            "W  W  W  W  W  W  W  W  W  W  \n",
            "\n",
            "W  W  W  W  W  W  W  W  W  W  \n",
            "\n"
          ]
        }
      ],
      "source": [
        "altura = int(input('Digite a altura'))\n",
        "largura = int(input('Digite a largura'))\n",
        "for i in range(altura):\n",
        "  for j in range(largura):\n",
        "    print('W ', end=' ')\n",
        "  print('\\n')"
      ]
    },
    {
      "cell_type": "code",
      "execution_count": null,
      "metadata": {
        "colab": {
          "base_uri": "https://localhost:8080/"
        },
        "id": "MjFcABcESwHw",
        "outputId": "f35ebf6f-e72b-4212-9280-9aa8ab01c1fa"
      },
      "outputs": [
        {
          "name": "stdout",
          "output_type": "stream",
          "text": [
            "Digite a altura10\n",
            "Digite a largura10\n",
            "W W W W W W W W W W \n",
            "\n",
            "W W W W W W W W W W \n",
            "\n",
            "W W W W W W W W W W \n",
            "\n",
            "W W W W W W W W W W \n",
            "\n",
            "W W W W W W W W W W \n",
            "\n",
            "W W W W W W W W W W \n",
            "\n",
            "W W W W W W W W W W \n",
            "\n",
            "W W W W W W W W W W \n",
            "\n",
            "W W W W W W W W W W \n",
            "\n",
            "W W W W W W W W W W \n",
            "\n"
          ]
        }
      ],
      "source": [
        "alt = int(input('Digite a altura'))\n",
        "larg = int(input('Digite a largura'))\n",
        "for i in range(alt):\n",
        "  for i in range(larg):\n",
        "    print('W', end=' ')\n",
        "  print('\\n')"
      ]
    },
    {
      "cell_type": "markdown",
      "metadata": {
        "id": "lMGsA4CT5rFu"
      },
      "source": [
        "6. Escreva um programa que calcule e escreva a soma de todos os dígitos ímpares de n. (Por exemplo, se n for 326771, a soma deve ser 3 + 7 + 7 + 1= 18)."
      ]
    },
    {
      "cell_type": "code",
      "execution_count": null,
      "metadata": {
        "colab": {
          "base_uri": "https://localhost:8080/"
        },
        "id": "xd5rrY072BGU",
        "outputId": "a52a1e98-376b-4253-f0e4-67f428f8200f"
      },
      "outputs": [
        {
          "name": "stdout",
          "output_type": "stream",
          "text": [
            "Digite um número : 3215723\n",
            "19\n"
          ]
        }
      ],
      "source": [
        "numero = input('Digite um número : ')\n",
        "tam = len(numero)\n",
        "numero = int(numero)\n",
        "i = 0\n",
        "soma = 0\n",
        "while i<tam:\n",
        "  digito = numero%10\n",
        "  if digito % 2 != 0:\n",
        "    soma += digito\n",
        "  numero = numero//10\n",
        "  i=i+1\n",
        "print(soma)"
      ]
    },
    {
      "cell_type": "markdown",
      "metadata": {
        "id": "-CXO_uRA5rFu"
      },
      "source": [
        "7. Foi feita uma estatística em cinco cidades brasileiras para coletar dados sobre acidentes de trânsito. Foram obtidos os seguintes dados:<p>\n",
        "\n",
        "Código da cidade;<p>\n",
        "Número de veículos de passeio (em 2018);<p>\n",
        "Número de acidentes de trânsito com vítimas (em 2018). Deseja-se saber:<p>\n",
        "Qual o maior e menor índice de acidentes de transito e a que cidade pertence;<p>\n",
        "Qual a média de veículos nas cinco cidades juntas;<p>\n",
        "Qual a média de acidentes de trânsito nas cidades com menos de 2.000 veículos de passeio.<p>"
      ]
    },
    {
      "cell_type": "code",
      "execution_count": null,
      "metadata": {
        "id": "u2ANSNlPzCTS"
      },
      "outputs": [],
      "source": []
    },
    {
      "cell_type": "markdown",
      "metadata": {
        "id": "WgGaSiyK5rFu"
      },
      "source": [
        "8. Faça um programa que calcule o fatorial de um número inteiro fornecido pelo usuário. Ex.: 5!=5.4.3.2.1=120"
      ]
    },
    {
      "cell_type": "code",
      "execution_count": null,
      "metadata": {
        "colab": {
          "base_uri": "https://localhost:8080/"
        },
        "id": "Nq-qxIgA0Hpp",
        "outputId": "8d6c9e51-4acc-446b-a086-240ccaa5b78b"
      },
      "outputs": [
        {
          "name": "stdout",
          "output_type": "stream",
          "text": [
            "Digite o numero fatorial: 5\n",
            "120\n"
          ]
        }
      ],
      "source": [
        "num=1\n",
        "fat=int(input('Digite o numero fatorial: '))\n",
        "i=1\n",
        "while i<=fat :\n",
        "  num=num*i\n",
        "  i=i+1\n",
        "print(num)"
      ]
    },
    {
      "cell_type": "markdown",
      "metadata": {
        "id": "gIKvEQAt5rFv"
      },
      "source": [
        "9. Refaça o programa de cálculo do fatorial, permitindo ao usuário calcular o fatorial várias vezes e limitando o fatorial a números inteiros positivos e menores que 16."
      ]
    },
    {
      "cell_type": "code",
      "execution_count": null,
      "metadata": {
        "colab": {
          "base_uri": "https://localhost:8080/"
        },
        "id": "y6gtgYqo101t",
        "outputId": "ab2de214-a2de-499e-9078-5caefc84b4e1"
      },
      "outputs": [
        {
          "name": "stdout",
          "output_type": "stream",
          "text": [
            "Digite o numero fatorial que seja menor que 16: 5\n",
            "120\n",
            "Digite o numero fatorial que seja menor que 16: 4\n",
            "24\n",
            "Digite o numero fatorial que seja menor que 16: 16\n",
            "Inválido\n",
            "Digite o numero fatorial que seja menor que 16: 6\n",
            "720\n",
            "Digite o numero fatorial que seja menor que 16: 7\n",
            "5040\n"
          ]
        }
      ],
      "source": [
        "\n",
        "\n",
        "for i in range(0,5):\n",
        " fat=int(input('Digite o numero fatorial que seja menor que 16: '))\n",
        " if fat<16:\n",
        "   num=1\n",
        "   i=1\n",
        "   while i<=fat :\n",
        "    num=num*i\n",
        "    i=i+1\n",
        "   print(num)\n",
        " else:\n",
        "  print('Inválido')\n",
        "\n"
      ]
    },
    {
      "cell_type": "markdown",
      "metadata": {
        "id": "nu_SpeqF5rFv"
      },
      "source": [
        "10. Leia a taxa de de crescimento e o número de elementos de uma população de bactérias. Calcule e escreva o crescimento da população de bactérias de hora em hora, durante um dia."
      ]
    },
    {
      "cell_type": "code",
      "execution_count": null,
      "metadata": {
        "colab": {
          "base_uri": "https://localhost:8080/"
        },
        "id": "w_nxsdAInuRG",
        "outputId": "47815bd2-7136-436f-814f-cc44b78f3560"
      },
      "outputs": [
        {
          "name": "stdout",
          "output_type": "stream",
          "text": [
            "Digite a taxa de crescimento (por hora): 2\n",
            "Digite o número inicial de bactérias: 5\n",
            "Hora 1: População = 15.00 bactérias\n",
            "Hora 2: População = 45.00 bactérias\n",
            "Hora 3: População = 135.00 bactérias\n",
            "Hora 4: População = 405.00 bactérias\n",
            "Hora 5: População = 1215.00 bactérias\n",
            "Hora 6: População = 3645.00 bactérias\n",
            "Hora 7: População = 10935.00 bactérias\n",
            "Hora 8: População = 32805.00 bactérias\n",
            "Hora 9: População = 98415.00 bactérias\n",
            "Hora 10: População = 295245.00 bactérias\n",
            "Hora 11: População = 885735.00 bactérias\n",
            "Hora 12: População = 2657205.00 bactérias\n",
            "Hora 13: População = 7971615.00 bactérias\n",
            "Hora 14: População = 23914845.00 bactérias\n",
            "Hora 15: População = 71744535.00 bactérias\n",
            "Hora 16: População = 215233605.00 bactérias\n",
            "Hora 17: População = 645700815.00 bactérias\n",
            "Hora 18: População = 1937102445.00 bactérias\n",
            "Hora 19: População = 5811307335.00 bactérias\n",
            "Hora 20: População = 17433922005.00 bactérias\n",
            "Hora 21: População = 52301766015.00 bactérias\n",
            "Hora 22: População = 156905298045.00 bactérias\n",
            "Hora 23: População = 470715894135.00 bactérias\n"
          ]
        }
      ],
      "source": [
        "\n",
        "taxa = float(input(\"Digite a taxa de crescimento (por hora): \"))\n",
        "numero = int(input(\"Digite o número inicial de bactérias: \"))\n",
        "\n",
        "\n",
        "dia = 24\n",
        "\n",
        "for hora in range(1, dia, 1):\n",
        "    populacao = numero * (1 + taxa) ** hora\n",
        "    print(f\"Hora {hora}: População = {populacao:.2f} bactérias\")\n"
      ]
    },
    {
      "cell_type": "markdown",
      "metadata": {
        "id": "wOxPRPmW5rFv"
      },
      "source": [
        "11. Escreva um programa que solicite ao usuário um número inteiro e imprima cada dígito do número em uma linha diferente."
      ]
    },
    {
      "cell_type": "code",
      "execution_count": null,
      "metadata": {
        "id": "p8buURdTo80s"
      },
      "outputs": [],
      "source": []
    },
    {
      "cell_type": "code",
      "execution_count": null,
      "metadata": {
        "colab": {
          "base_uri": "https://localhost:8080/"
        },
        "id": "P-yMrymtrrTs",
        "outputId": "4bda0d69-2e63-4fb3-b332-fc07e60fa141"
      },
      "outputs": [
        {
          "name": "stdout",
          "output_type": "stream",
          "text": [
            "Digite um número inteiro: 130\n",
            "1\n",
            "3\n",
            "0\n"
          ]
        }
      ],
      "source": [
        "numero = int(input(\"Digite um número inteiro: \"))\n",
        "\n",
        "# Converte o número em uma string para facilitar a iteração pelos dígitos\n",
        "numero_str = str(numero)\n",
        "\n",
        "# Itera pelos dígitos do número e imprime cada dígito em uma linha\n",
        "for i in numero_str:\n",
        "    print(i)"
      ]
    },
    {
      "cell_type": "markdown",
      "metadata": {
        "id": "Gc6nT7YWFlGT"
      },
      "source": [
        "12. Faça um algoritmo que leia sexo, idade e altura de 20 habitantes de uma região, calcule e escreva:<p>\n",
        "a) a maior e a menor idade do grupo;<p>\n",
        "b) média da altura das mulheres;<p>\n",
        "c) média da idade dos homens;<p>\n",
        "d) a porcentagem de homens;<p>\n",
        "e) a porcentagem de mulheres;<p>\n",
        "f) percentual de pessoas com idade entre 18 e 65 anos (inclusive)."
      ]
    },
    {
      "cell_type": "code",
      "execution_count": null,
      "metadata": {
        "id": "aLsGZ5EC0jCC"
      },
      "outputs": [],
      "source": [
        "idade_maior = -1\n",
        "idade_menor = float('inf')\n",
        "soma_altura_mulheres = 0\n",
        "soma_idade_homens = 0\n",
        "homens = 0\n",
        "mulheres = 0\n",
        "idade_18_65 = 0\n",
        "\n",
        "for i in range (1,21):\n",
        "    print(f'Digite as informações para habitante {i}')\n",
        "\n",
        "    sexo = input('Para sexo Masculino digite M e para sexo feminino digite F: ')\n",
        "\n",
        "    if sexo == 'M' :\n",
        "      homens += 1\n",
        "    elif sexo == 'F' :\n",
        "      mulheres += 1\n",
        "    else:\n",
        "      sexo=input('Inválido ! Digite o sexo novamente M para Masculino e F para Feminino : ')\n",
        "\n",
        "    idade = int(input(\"Idade: \"))\n",
        "    altura = float(input(\"Altura (em centímetros): \"))\n",
        "\n",
        "    if idade > idade_maior :\n",
        "        idade_maior = idade\n",
        "    if idade < idade_menor :\n",
        "        idade_menor = idade\n",
        "\n",
        "        #media altura mulheres\n",
        "    if sexo =='F':\n",
        "      soma_altura_mulheres += altura\n",
        "\n",
        "      #media idade homens\n",
        "    if sexo == 'M':\n",
        "      soma_idade_homens += idade\n",
        "\n",
        "\n",
        "    if 18<= idade <=65:\n",
        "      idade_18_65 += 1\n",
        "\n",
        "\n",
        "\n",
        "media_altura_mulheres = soma_altura_mulheres / mulheres if mulheres > 0 else 0\n",
        "media_idade_homens = soma_idade_homens / homens if mulheres > 0 else 0\n",
        "porcentagem_homens = homens /20 * 100\n",
        "porcentagem_mulheres = mulheres/20 * 100\n",
        "porcentagem_idade_18_65= idade_18_65/3 * 100\n",
        "\n",
        "print(f\"a) Maior idade: {idade_maior}, Menor idade: {idade_menor}\")\n",
        "print(f\"b) Média da altura das mulheres: {media_altura_mulheres:.2f} metros\")\n",
        "print(f\"c) Média da idade dos homens: {media_idade_homens:.2f} anos\")\n",
        "print(f\"d) Porcentagem de homens: {porcentagem_homens:.2f}%\")\n",
        "print(f\"e) Porcentagem de mulheres: {porcentagem_mulheres:.2f}%\")\n",
        "print(f\"f) Percentual de pessoas com idade entre 18 e 65 anos: {porcentagem_idade_18_65:.2f}%\")"
      ]
    },
    {
      "cell_type": "markdown",
      "metadata": {
        "id": "qxmjqrZg5rFw"
      },
      "source": [
        "13. Sendo H= 1 + 1/2 + 1/3 + 1/4 + ... + 1/N, Faça um programa que calcule o valor de H com N termos."
      ]
    },
    {
      "cell_type": "code",
      "source": [
        "h=0\n",
        "i= 1\n",
        "n = int(input('Digite o valor de n : '))\n",
        "while i <= n :\n",
        "  h= h + (1/i)\n",
        "  i= i + 1\n",
        "\n",
        "print(h)"
      ],
      "metadata": {
        "colab": {
          "base_uri": "https://localhost:8080/"
        },
        "id": "jerfdtp4AQrR",
        "outputId": "e859bc3e-468c-4d42-d7a7-034cfc7e9754"
      },
      "execution_count": null,
      "outputs": [
        {
          "output_type": "stream",
          "name": "stdout",
          "text": [
            "Digite o valor de n : 3\n",
            "1.8333333333333333\n"
          ]
        }
      ]
    },
    {
      "cell_type": "markdown",
      "metadata": {
        "id": "gyOtLIqa5rFw"
      },
      "source": [
        "14. Os números primos são utilizados na Computação, por exemplo na Criptografia. Faça um programa que leia um número inteiro e determine se ele é ou não um número primo. Um número primo é aquele que é divisível somente por 1 e por ele mesmo."
      ]
    },
    {
      "cell_type": "code",
      "source": [
        "num=int(input('Digite um número: '))\n",
        "primos = []\n",
        "\n",
        "for a in range (1, num +1):\n",
        "    if num % a == 0:\n",
        "        primos.append(a)\n",
        "\n",
        "\n",
        "if len(primos) == 2:\n",
        "    print(f'O número {num} é primo')\n",
        "else:\n",
        "    print(f'O número {num} não é primo')"
      ],
      "metadata": {
        "colab": {
          "base_uri": "https://localhost:8080/"
        },
        "id": "JP6YA3ipC9AL",
        "outputId": "6fd78df0-1cd6-47f4-a4ef-c3031795e328"
      },
      "execution_count": null,
      "outputs": [
        {
          "output_type": "stream",
          "name": "stdout",
          "text": [
            "Digite um número: 10\n",
            "O número 10 não é primo\n"
          ]
        }
      ]
    },
    {
      "cell_type": "markdown",
      "metadata": {
        "id": "RUKKOgz15rFw"
      },
      "source": [
        "15. A série de Fibonacci é formada pela sequência 1,1,2,3,5,8,13,21,34,55,... Faça um programa capaz de gerar a série até o n−ésimo termo."
      ]
    },
    {
      "cell_type": "markdown",
      "metadata": {
        "id": "WLSDHmmx5rFx"
      },
      "source": [
        "16. Faça um programa que leia uma quantidade indeterminada de números positivos e conte quantos deles estão nos seguintes intervalos: [0-25], [26-50], [51-75] e [76-100]. A entrada de dados deverá terminar quando for lido um número negativo."
      ]
    },
    {
      "cell_type": "markdown",
      "metadata": {
        "id": "Thnb8-L-5rFx"
      },
      "source": [
        "17. Faça um algoritmo que leia vários números positivos, calcule a quantidade de números pares e ímpares, a média de valores pares e a média geral dos números lidos. A leitura encerra com o valor zero."
      ]
    },
    {
      "cell_type": "markdown",
      "metadata": {
        "id": "n3CT6-Bn5rFy"
      },
      "source": [
        "18. Escreva um programa que leia uma frase e escreva a primeira letra de cada palavra em meiúscula.\n"
      ]
    },
    {
      "cell_type": "markdown",
      "metadata": {
        "id": "6UcC1aE85rFy"
      },
      "source": [
        "19. Leia 20 números e encontre o maior e o segundo maior elemento da lista."
      ]
    },
    {
      "cell_type": "markdown",
      "metadata": {
        "id": "8OmpOwtn5rFz"
      },
      "source": [
        "20. Faça um algoritmo que encontre e escreva os 5 primeiros números perfeitos. Um número perfeito é igual a soma dos seus divisores. (Ex.: 28= 1+2+4+7+14, etc)."
      ]
    }
  ],
  "metadata": {
    "colab": {
      "provenance": [],
      "include_colab_link": true
    },
    "kernelspec": {
      "display_name": "Python 3",
      "language": "python",
      "name": "python3"
    },
    "language_info": {
      "codemirror_mode": {
        "name": "ipython",
        "version": 3
      },
      "file_extension": ".py",
      "mimetype": "text/x-python",
      "name": "python",
      "nbconvert_exporter": "python",
      "pygments_lexer": "ipython3",
      "version": "3.6.5"
    }
  },
  "nbformat": 4,
  "nbformat_minor": 0
}